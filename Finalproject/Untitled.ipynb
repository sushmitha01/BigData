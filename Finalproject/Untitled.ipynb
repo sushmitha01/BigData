{
 "cells": [
  {
   "cell_type": "code",
   "execution_count": 3,
   "id": "9b993153-d685-4385-b4a0-e75cc1669296",
   "metadata": {},
   "outputs": [],
   "source": [
    "import pandas as pd\n"
   ]
  },
  {
   "cell_type": "code",
   "execution_count": 4,
   "id": "32a7e5fe-0276-41c7-809a-8220040fec27",
   "metadata": {},
   "outputs": [],
   "source": [
    "from pyspark.sql import SparkSession\n",
    "spark = SparkSession.builder.getOrCreate()"
   ]
  },
  {
   "cell_type": "code",
   "execution_count": 16,
   "id": "c513ff39-11e1-49fc-b7dc-b0ac2b9e9182",
   "metadata": {},
   "outputs": [
    {
     "name": "stdout",
     "output_type": "stream",
     "text": [
      "+----+--------------------+-----------+------------+----------------+--------------------+-------+--------------+------------+-------------+----------------+------------+-----------------+--------------------------------+-----------------------+------------------------+----------------------+-----------------------+----------------------------+------------+-------------+------------+---------------------------------------+----------+-----------------+----------------+---------+-----------+\n",
      "|rank|            Youtuber|subscribers| video views|        category|               Title|uploads|       Country|Abbreviation| channel_type|video_views_rank|country_rank|channel_type_rank|video_views_for_the_last_30_days|lowest_monthly_earnings|highest_monthly_earnings|lowest_yearly_earnings|highest_yearly_earnings|subscribers_for_last_30_days|created_year|created_month|created_date|Gross tertiary education enrollment (%)|Population|Unemployment rate|Urban_population| Latitude|  Longitude|\n",
      "+----+--------------------+-----------+------------+----------------+--------------------+-------+--------------+------------+-------------+----------------+------------+-----------------+--------------------------------+-----------------------+------------------------+----------------------+-----------------------+----------------------------+------------+-------------+------------+---------------------------------------+----------+-----------------+----------------+---------+-----------+\n",
      "|   1|            T-Series|  245000000|228000000000|           Music|            T-Series|  20082|         India|          IN|        Music|               1|           1|                1|                      2258000000|                 564600|                 9000000|               6800000|              108400000|                     2000000|        2006|          Mar|          13|                                   28.1|1366417754|             5.36|       471031528|20.593684|   78.96288|\n",
      "|   2|      YouTube Movies|  170000000|           0|Film & Animation|       youtubemovies|      1| United States|          US|        Games|         4055159|        7670|             7423|                              12|                      0|                    0.05|                  0.04|                   0.58|                            |        2006|          Mar|           5|                                   88.2| 328239523|             14.7|       270663028| 37.09024| -95.712891|\n",
      "|   3|             MrBeast|  166000000| 28368841870|   Entertainment|             MrBeast|    741| United States|          US|Entertainment|              48|           1|                1|                      1348000000|                 337000|                 5400000|               4000000|               64700000|                     8000000|        2012|          Feb|          20|                                   88.2| 328239523|             14.7|       270663028| 37.09024| -95.712891|\n",
      "|   4|Cocomelon - Nurse...|  162000000|164000000000|       Education|Cocomelon - Nurse...|    966| United States|          US|    Education|               2|           2|                1|                      1975000000|                 493800|                 7900000|               5900000|               94800000|                     1000000|        2006|          Sep|           1|                                   88.2| 328239523|             14.7|       270663028| 37.09024| -95.712891|\n",
      "|   5|           SET India|  159000000|148000000000|           Shows|           SET India| 116536|         India|          IN|Entertainment|               3|           2|                2|                      1824000000|                 455900|                 7300000|               5500000|               87500000|                     1000000|        2006|          Sep|          20|                                   28.1|1366417754|             5.36|       471031528|20.593684|   78.96288|\n",
      "|   7| YYY Kids Diana Show|  112000000| 93247040539|  People & Blogs| YYY Kids Diana Show|   1111| United States|          US|Entertainment|               5|           3|                3|                       731674000|                 182900|                 2900000|               2200000|               35100000|                            |        2015|          May|          12|                                   88.2| 328239523|             14.7|       270663028| 37.09024| -95.712891|\n",
      "|   8|           PewDiePie|  111000000| 29058044447|          Gaming|           PewDiePie|   4716|         Japan|          JP|Entertainment|              44|           1|                4|                        39184000|                   9800|                  156700|                117600|                1900000|                            |        2010|          Apr|          29|                                   63.2| 126226568|             2.29|       115782416|36.204824| 138.252924|\n",
      "|   9|         Like Nastya|  106000000| 90479060027|  People & Blogs|    Like Nastya Vlog|    493|        Russia|          RU|       People|             630|           5|               25|                        48947000|                  12200|                  195800|                146800|                2300000|                      100000|        2016|          Jan|          14|                                   81.9| 144373535|             4.59|       107683889| 61.52401| 105.318756|\n",
      "|  10|       Vlad and Niki|   98900000| 77180169894|   Entertainment|       Vlad and Niki|    574| United States|          US|Entertainment|               8|           5|                6|                       580574000|                 145100|                 2300000|               1700000|               27900000|                      600000|        2018|          Apr|          23|                                   88.2| 328239523|             14.7|       270663028| 37.09024| -95.712891|\n",
      "|  11|   Zee Music Company|   96700000| 57856289381|           Music|   Zee Music Company|   8548|         India|          IN|        Music|              12|           3|                2|                       803613000|                 200900|                 3200000|               2400000|               38600000|                     1100000|        2014|          Mar|          12|                                   28.1|1366417754|             5.36|       471031528|20.593684|   78.96288|\n",
      "|  12|                 WWE|   96000000| 77428473662|          Sports|                 WWE|  70127| United States|          US|       Sports|               7|           6|                1|                       714614000|                 178700|                 2900000|               2100000|               34300000|                      600000|        2007|          May|          11|                                   88.2| 328239523|             14.7|       270663028| 37.09024| -95.712891|\n",
      "|  14|           BLACKPINK|   89800000| 32144597566|  People & Blogs|           BLACKPINK|    543|   South Korea|          KR|        Music|              32|           1|                3|                       498930000|                 124700|                 2000000|               1500000|               23900000|                      700000|        2016|          Jun|          29|                                   94.3|  51709098|             4.15|        42106719|35.907757| 127.766922|\n",
      "|  15|           Goldmines|   86900000| 24118230580|Film & Animation|           goldmines|      1|              |            |        Music|         4056562|            |             5663|                              18|                      0|                    0.07|                  0.05|                   0.86|                            |        2006|          Aug|          15|                                       |          |                 |                |         |           |\n",
      "|  16|            Sony SAB|   83000000|101000000000|           Shows|            Sony SAB|  71270|         India|          IN|Entertainment|               4|           5|                7|                      1657000000|                 414300|                 6600000|               5000000|               79600000|                     1100000|        2007|          Aug|           4|                                   28.1|1366417754|             5.36|       471031528|20.593684|   78.96288|\n",
      "|  17|     5-Minute Crafts|   80100000| 26236790209|   Howto & Style| 5-Minute Crafts 2.0|      1|United Kingdom|          GB|Entertainment|         4057901|        4797|             6781|                               1|                      0|                       0|                     0|                   0.05|                            |        2020|          Jul|          27|                                     60|  66834405|             3.85|        55908316|55.378051|  -3.435973|\n",
      "|  18|           BANGTANTV|   75600000| 20826993957|           Music|           BANGTANTV|   2281|   South Korea|          KR|        Music|             112|           2|                4|                       168290000|                  42100|                  673200|                504900|                8100000|                      400000|        2012|          Dec|          17|                                   94.3|  51709098|             4.15|        42106719|35.907757| 127.766922|\n",
      "|  19|              Sports|   75000000|           0|           Other|              sports|      3| United States|          US|Entertainment|         3898122|        6266|             5395|                              16|                      0|                    0.06|                  0.05|                   0.77|                           0|        2006|          Jan|          30|                                   88.2| 328239523|             14.7|       270663028| 37.09024| -95.712891|\n",
      "|  20|       Justin Bieber|   71600000| 30608119724|           Music|       Justin Bieber|    249|        Canada|          CA|        Music|              38|           1|                6|                       176326000|                  44100|                  705300|                529000|                8500000|                      100000|        2007|          Jan|          15|                                   68.9|  36991981|             5.56|        30628482|56.130366|-106.346771|\n",
      "|  21|         HYBE LABELS|   71300000| 28634566938|           Music|         HYBE LABELS|   1337|   South Korea|          KR|        Music|              46|           3|                5|                       598173000|                 149500|                 2400000|               1800000|               28700000|                      900000|        2008|          Jun|           4|                                   94.3|  51709098|             4.15|        42106719|35.907757| 127.766922|\n",
      "|  22|              Zee TV|   70500000| 73139054467|   Entertainment|              Zee TV| 129204|         India|          IN|Entertainment|               9|           6|                8|                      1707000000|                 426800|                 6800000|               5100000|               81900000|                      900000|        2005|          Dec|          11|                                   28.1|1366417754|             5.36|       471031528|20.593684|   78.96288|\n",
      "+----+--------------------+-----------+------------+----------------+--------------------+-------+--------------+------------+-------------+----------------+------------+-----------------+--------------------------------+-----------------------+------------------------+----------------------+-----------------------+----------------------------+------------+-------------+------------+---------------------------------------+----------+-----------------+----------------+---------+-----------+\n",
      "only showing top 20 rows\n",
      "\n"
     ]
    }
   ],
   "source": [
    "Data = spark.read.format(\"csv\").option(\"header\", \"true\").load(\"Youtube.csv\")\n",
    " \n",
    "Data.createOrReplaceTempView(\"datastats\")\n",
    " \n",
    "Data.show()"
   ]
  },
  {
   "cell_type": "code",
   "execution_count": 17,
   "id": "aca91ee8-81b2-413a-8d89-c7b50b0950b4",
   "metadata": {},
   "outputs": [
    {
     "name": "stdout",
     "output_type": "stream",
     "text": [
      "+--------------------+--------------------------+\n",
      "|            Youtuber|average_earnings_variation|\n",
      "+--------------------+--------------------------+\n",
      "|            T-Series|                 8435400.0|\n",
      "| KL BRO Biju Rithvik|                 7591900.0|\n",
      "|Cocomelon - Nurse...|                 7406200.0|\n",
      "|           SET India|                 6844100.0|\n",
      "|              Zee TV|                 6373200.0|\n",
      "|            StarPlus|                 6283200.0|\n",
      "|            Sony SAB|                 6185700.0|\n",
      "|         GR6 EXPLODE|                 6091300.0|\n",
      "|ZAMZAM ELECTRONIC...|                 6000400.0|\n",
      "|           BETER B  |                 5534100.0|\n",
      "|            ViralHog|                 5159100.0|\n",
      "|         BeatboxJCOP|                 5156200.0|\n",
      "|             MrBeast|                 5063000.0|\n",
      "|         HAR PAL GEO|                 4965700.0|\n",
      "|           dednahype|                 4688800.0|\n",
      "|           PANDA BOI|                 4593600.0|\n",
      "|           Colors TV|                 4503100.0|\n",
      "|          Filaretiki|                 4499200.0|\n",
      "|      LeoNata Family|                 4406500.0|\n",
      "|      ARY Digital HD|                 4312700.0|\n",
      "+--------------------+--------------------------+\n",
      "only showing top 20 rows\n",
      "\n"
     ]
    }
   ],
   "source": [
    "spark.sql('''\n",
    "    SELECT \n",
    "        Youtuber,\n",
    "        AVG(highest_monthly_earnings - lowest_monthly_earnings) AS average_earnings_variation\n",
    "    FROM \n",
    "        datastats \n",
    "    WHERE \n",
    "        highest_monthly_earnings IS NOT NULL \n",
    "        AND lowest_monthly_earnings IS NOT NULL \n",
    "        AND (highest_monthly_earnings + lowest_monthly_earnings) != 0\n",
    "    GROUP BY \n",
    "        Youtuber \n",
    "    ORDER BY \n",
    "        average_earnings_variation DESC\n",
    "''').show()\n"
   ]
  },
  {
   "cell_type": "code",
   "execution_count": 23,
   "id": "a098957c-7ebf-4b8a-87a0-b72bfe8130ac",
   "metadata": {},
   "outputs": [
    {
     "name": "stdout",
     "output_type": "stream",
     "text": [
      "+--------------------+--------------------+-----------+--------------------+\n",
      "|            Youtuber|               Title|video_views|    revenue_per_view|\n",
      "+--------------------+--------------------+-----------+--------------------+\n",
      "|            Vibhu 96|            Vibhu 96|   20563378|0.003695890821050...|\n",
      "|Super JoJo - Nurs...|Super JoJo - Nurs...|  329774870|0.003693125555625...|\n",
      "|          Go Ami Go!|          Go Ami Go!| 1714955279|7.102809122289655E-4|\n",
      "|ZAMZAM ELECTRONIC...|ZAMZAM ELECTRONIC...| 8507818877|7.052806467497157E-4|\n",
      "|         BeatboxJCOP|         BeatboxJCOP| 8716982055|5.915120585848218E-4|\n",
      "|      Manoj  parihar|      Manoj  parihar|  264228052|5.275745665339122E-4|\n",
      "|        DEV Ke Facts|        DEV Ke Facts| 1971226335|5.233290473465595E-4|\n",
      "|       Jess No Limit|       Jess No Limit| 3963007415| 5.20614721080455E-4|\n",
      "|                GH'S|                GH'S| 8739174649|4.611076173493234...|\n",
      "|            _vector_|            _vector_| 7597013023|4.441350817465882E-4|\n",
      "| KL BRO Biju Rithvik| KL BRO Biju Rithvik|17988347989|4.220454265529275E-4|\n",
      "|       Ami Rodriguez|       Ami Rodriguez| 2951914200|3.502811836468688...|\n",
      "|          IShowSpeed|          IShowSpeed| 1556003039|3.379813450351494E-4|\n",
      "|           BETER B  |           BETER B  |19180039918| 2.88534331714627E-4|\n",
      "|        Pok         |                 Pok|  857725714|2.858722736158986E-4|\n",
      "|          Filaretiki|          Filaretiki|15788208522|2.849721672810827...|\n",
      "|            ViralHog|            ViralHog|18917687143|2.727130415574607...|\n",
      "|           PANDA BOI|           PANDA BOI|17211600007|2.668897719056782...|\n",
      "|        Panda Shorts|        Panda Shorts| 7155736006|2.488073901143300...|\n",
      "|              Vilmei|              Vilmei| 4205664894|2.458350881628754E-4|\n",
      "+--------------------+--------------------+-----------+--------------------+\n",
      "only showing top 20 rows\n",
      "\n"
     ]
    }
   ],
   "source": [
    "#2)\tEvaluate how efficiently each video generates revenue based on views.\n",
    "spark.sql('''\n",
    "    SELECT\n",
    "        Youtuber,\n",
    "        Title,\n",
    "        `video views` AS video_views,\n",
    "        (highest_monthly_earnings - lowest_monthly_earnings) / NULLIF(`video views`, 0) AS revenue_per_view\n",
    "    FROM\n",
    "        datastats\n",
    "    WHERE\n",
    "        highest_monthly_earnings IS NOT NULL\n",
    "        AND lowest_monthly_earnings IS NOT NULL\n",
    "        AND `video views` IS NOT NULL\n",
    "    ORDER BY\n",
    "        revenue_per_view DESC\n",
    "''').show()\n"
   ]
  },
  {
   "cell_type": "code",
   "execution_count": 27,
   "id": "bf8a2a3d-e40f-4855-9478-f2268ff31dad",
   "metadata": {},
   "outputs": [
    {
     "name": "stdout",
     "output_type": "stream",
     "text": [
      "+----------------+-------------------------+\n",
      "|        Youtuber|engagement_per_subscriber|\n",
      "+----------------+-------------------------+\n",
      "|        netd m  |        232805.3423568465|\n",
      "|     jbalvinVEVO|        157148.3833409091|\n",
      "|    Ryan's World|       157101.81874431818|\n",
      "|Vijay Television|       144148.07166666666|\n",
      "|     Maroon5VEVO|        138224.6310275862|\n",
      "|     shakiraVEVO|       137864.81680434782|\n",
      "|    Tsuriki Show|       136932.66550869567|\n",
      "|        ViralHog|       135126.33673571429|\n",
      "|        LankyBox|       135041.26797637795|\n",
      "|      MalumaVEVO|        134850.6594397163|\n",
      "+----------------+-------------------------+\n",
      "\n"
     ]
    }
   ],
   "source": [
    "#ChannelswithHighEngagementRelativetoSubscribers\n",
    "spark.sql(\" SELECT Youtuber, `video views` / subscribers * 100 AS engagement_per_subscriber FROM datastats ORDER BY engagement_per_subscriber DESC LIMIT 10\").show()"
   ]
  },
  {
   "cell_type": "code",
   "execution_count": 28,
   "id": "24f5c3f3-6458-454b-9f13-58acf48a6e4b",
   "metadata": {},
   "outputs": [
    {
     "name": "stdout",
     "output_type": "stream",
     "text": [
      "+-------------+------------------------+\n",
      "| channel_type|total_views_last_30_days|\n",
      "+-------------+------------------------+\n",
      "|        Howto|           2.127236291E9|\n",
      "|    Education|              9.220914E9|\n",
      "|Entertainment|         6.1557841055E10|\n",
      "|        Autos|             3.5326153E8|\n",
      "|       Sports|           2.128495004E9|\n",
      "|         Film|           5.763538061E9|\n",
      "|        Games|           8.598094041E9|\n",
      "|         Tech|            9.36521005E8|\n",
      "|    Nonprofit|               1.95181E8|\n",
      "|        Music|         3.7532535662E10|\n",
      "|      Animals|              2.122043E9|\n",
      "|             |                162732.0|\n",
      "|       People|         1.3803361493E10|\n",
      "|       Comedy|           9.600746623E9|\n",
      "|         News|           5.250125924E9|\n",
      "+-------------+------------------------+\n",
      "\n"
     ]
    }
   ],
   "source": [
    "#Analyzetheperformanceofvariouschannelcategoriesbyassessingthetotalnumberofvideoviewstheygeneratedinthe last 30days.\n",
    "spark.sql(\" SELECT channel_type, SUM(video_views_for_the_last_30_days) AS total_views_last_30_days FROM datastats GROUP BY channel_type\").show()\n"
   ]
  },
  {
   "cell_type": "code",
   "execution_count": 29,
   "id": "db28cb32-4405-48fa-989d-f4049e8b1804",
   "metadata": {},
   "outputs": [
    {
     "name": "stdout",
     "output_type": "stream",
     "text": [
      "+--------------------+--------------------+\n",
      "|            Youtuber| avg_views_per_video|\n",
      "+--------------------+--------------------+\n",
      "|Khan GS Research ...|        2.07307307E9|\n",
      "|Cocomelon - Nurse...|1.6977225672877848E8|\n",
      "|         Jason Vlogs|1.0727286120481928E8|\n",
      "+--------------------+--------------------+\n",
      "\n"
     ]
    }
   ],
   "source": [
    "# AverageViewsperVideoforTop3EducationChannels\n",
    "spark.sql(\"SELECT Youtuber, `video views` / uploads AS avg_views_per_video FROM datastats WHERE category = 'Education'ORDER BY avg_views_per_video DESC LIMIT 3\").show()\n"
   ]
  },
  {
   "cell_type": "code",
   "execution_count": 30,
   "id": "766c6f07-9665-4aa8-b3c1-541481d31aeb",
   "metadata": {},
   "outputs": [
    {
     "name": "stdout",
     "output_type": "stream",
     "text": [
      "+--------------------+------------------+\n",
      "|            Youtuber|earnings_per_video|\n",
      "+--------------------+------------------+\n",
      "|     Michael Jackson|42293.333333333336|\n",
      "|               Adele|           36560.0|\n",
      "|Super JoJo - Nurs...| 36111.11111111111|\n",
      "|  Galinha Pintadinha|24242.424242424244|\n",
      "|             KAROL G| 14179.10447761194|\n",
      "+--------------------+------------------+\n",
      "\n"
     ]
    }
   ],
   "source": [
    "# Top5ChannelswiththeMostMonthlyEarningsperVideo\n",
    "spark.sql(\"SELECT Youtuber, highest_monthly_earnings / uploads AS earnings_per_video FROM datastats ORDER BY earnings_per_video DESC LIMIT 5\").show()\n"
   ]
  },
  {
   "cell_type": "code",
   "execution_count": 31,
   "id": "30556454-70a3-467f-bae9-e97a8e0b62fd",
   "metadata": {},
   "outputs": [
    {
     "name": "stdout",
     "output_type": "stream",
     "text": [
      "+------------------+------------------+\n",
      "|          Youtuber|yearly_growth_rate|\n",
      "+------------------+------------------+\n",
      "|       BRIGHT SIDE|       4.4499999E9|\n",
      "|    MrBeast Gaming|       3.6099999E9|\n",
      "|             Drake|       2.8099999E9|\n",
      "|Sandeep Maheshwari|       2.7799999E9|\n",
      "|          FaZe Rug|       2.3699999E9|\n",
      "+------------------+------------------+\n",
      "\n"
     ]
    }
   ],
   "source": [
    "# Identify channels that have experienced substantial growth over the past year by analyzing the percentage change insubscribers\n",
    "spark.sql(\"SELECT Youtuber, ((subscribers - subscribers_for_last_30_days) / subscribers_for_last_30_days) * 100 AS yearly_growth_rate FROM datastats ORDER BY yearly_growth_rate DESC LIMIT 5\").show()\n"
   ]
  },
  {
   "cell_type": "code",
   "execution_count": 32,
   "id": "7f7fd0d7-0ad8-41aa-ae0e-dabefc222fbb",
   "metadata": {},
   "outputs": [
    {
     "name": "stdout",
     "output_type": "stream",
     "text": [
      "+-------------+--------------------------+\n",
      "|     Youtuber|subscribers_to_views_ratio|\n",
      "+-------------+--------------------------+\n",
      "|  Happy Lives|         8807.896735003796|\n",
      "|       YYYYYY|         33.93319942245239|\n",
      "|Calon Sarjana|         1.218987893106014|\n",
      "+-------------+--------------------------+\n",
      "\n"
     ]
    }
   ],
   "source": [
    "#ChannelswiththeHighestSubscribers-to-ViewsRatio\n",
    "spark.sql(\"SELECT Youtuber, subscribers / `video views` AS subscribers_to_views_ratio FROM datastats ORDER BY subscribers_to_views_ratio DESC LIMIT 3 \").show()\n"
   ]
  },
  {
   "cell_type": "code",
   "execution_count": null,
   "id": "1362d91a-f3a4-4f74-ac0c-1ab29d2f91d7",
   "metadata": {},
   "outputs": [],
   "source": []
  }
 ],
 "metadata": {
  "kernelspec": {
   "display_name": "Python 3 (ipykernel)",
   "language": "python",
   "name": "python3"
  },
  "language_info": {
   "codemirror_mode": {
    "name": "ipython",
    "version": 3
   },
   "file_extension": ".py",
   "mimetype": "text/x-python",
   "name": "python",
   "nbconvert_exporter": "python",
   "pygments_lexer": "ipython3",
   "version": "3.10.7"
  }
 },
 "nbformat": 4,
 "nbformat_minor": 5
}
